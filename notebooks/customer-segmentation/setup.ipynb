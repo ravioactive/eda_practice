{
  "cells": [
    {
      "cell_type": "markdown",
      "metadata": {},
      "source": [
        "# Project Setup: customer-segmentation\n",
        "This notebook initializes the analysis environment and downloads required data.\n",
        "Run all cells to set up your analysis environment."
      ]
    },
    {
      "cell_type": "code",
      "execution_count": 1,
      "metadata": {},
      "outputs": [
        {
          "name": "stdout",
          "output_type": "stream",
          "text": [
            "✓ Imports completed successfully\n"
          ]
        }
      ],
      "source": [
        "# Essential imports\n",
        "import os\n",
        "import sys\n",
        "import shutil\n",
        "import pandas as pd\n",
        "import numpy as np\n",
        "from pathlib import Path\n",
        "import kagglehub\n",
        "from IPython.display import display\n",
        "\n",
        "print(\"✓ Imports completed successfully\")"
      ]
    },
    {
      "cell_type": "code",
      "execution_count": 2,
      "metadata": {},
      "outputs": [
        {
          "name": "stdout",
          "output_type": "stream",
          "text": [
            "Stored 'SLUG' (str)\n",
            "Stored 'DATA_DIR' (PosixPath)\n",
            "Stored 'FIG_DIR' (PosixPath)\n",
            "Stored 'REP_DIR' (PosixPath)\n",
            "Stored 'NOTEBOOK_DIR' (PosixPath)\n",
            "Stored 'DATASET_KEY' (str)\n",
            "Project: customer-segmentation\n",
            "Data Directory: /Users/ravisharma/workdir/eda_practice/data/customer-segmentation\n",
            "Figures Directory: /Users/ravisharma/workdir/eda_practice/figures/customer-segmentation\n",
            "Reports Directory: /Users/ravisharma/workdir/eda_practice/reports/customer-segmentation\n",
            "\n",
            "✓ Configuration variables set and stored\n"
          ]
        }
      ],
      "source": [
        "# Project Configuration - These variables are shared across all notebooks\n",
        "SLUG = 'customer-segmentation'\n",
        "DATASET_KEY = 'vjchoudhary7/customer-segmentation-tutorial-in-python'\n",
        "\n",
        "# Directory paths\n",
        "GIT_ROOT = Path('/Users/ravisharma/workdir/eda_practice')\n",
        "DATA_DIR = GIT_ROOT / 'data' / SLUG\n",
        "FIG_DIR = GIT_ROOT / 'figures' / SLUG\n",
        "REP_DIR = GIT_ROOT / 'reports' / SLUG\n",
        "NOTEBOOK_DIR = GIT_ROOT / 'notebooks' / SLUG\n",
        "\n",
        "# Make variables available to other notebooks in this folder\n",
        "%store SLUG\n",
        "%store DATA_DIR\n",
        "%store FIG_DIR\n",
        "%store REP_DIR\n",
        "%store NOTEBOOK_DIR\n",
        "%store DATASET_KEY\n",
        "\n",
        "print(f\"Project: {SLUG}\")\n",
        "print(f\"Data Directory: {DATA_DIR}\")\n",
        "print(f\"Figures Directory: {FIG_DIR}\")\n",
        "print(f\"Reports Directory: {REP_DIR}\")\n",
        "print(\"\\n✓ Configuration variables set and stored\")"
      ]
    },
    {
      "cell_type": "code",
      "execution_count": 5,
      "metadata": {},
      "outputs": [
        {
          "name": "stdout",
          "output_type": "stream",
          "text": [
            "Retrieved variables:\n",
            "SLUG = customer-segmentation\n",
            "DATA_DIR = /Users/ravisharma/workdir/eda_practice/data/customer-segmentation\n",
            "DATASET_KEY = vjchoudhary7/customer-segmentation-tutorial-in-python\n",
            "FIG_DIR = /Users/ravisharma/workdir/eda_practice/figures/customer-segmentation\n",
            "REP_DIR = /Users/ravisharma/workdir/eda_practice/reports/customer-segmentation\n",
            "NOTEBOOK_DIR = /Users/ravisharma/workdir/eda_practice/notebooks/customer-segmentation\n"
          ]
        }
      ],
      "source": [
        "# Load stored variables\n",
        "%store -r SLUG\n",
        "%store -r DATA_DIR\n",
        "%store -r FIG_DIR\n",
        "%store -r REP_DIR\n",
        "%store -r NOTEBOOK_DIR\n",
        "%store -r DATASET_KEY\n",
        "\n",
        "# Verify variables were loaded correctly\n",
        "print(\"Retrieved variables:\")\n",
        "print(f\"SLUG = {SLUG}\")\n",
        "print(f\"DATA_DIR = {DATA_DIR}\")\n",
        "print(f\"DATASET_KEY = {DATASET_KEY}\")\n",
        "print(f\"FIG_DIR = {FIG_DIR}\")\n",
        "print(f\"REP_DIR = {REP_DIR}\")\n",
        "print(f\"NOTEBOOK_DIR = {NOTEBOOK_DIR}\")"
      ]
    },
    {
      "cell_type": "code",
      "execution_count": 4,
      "metadata": {},
      "outputs": [],
      "source": [
        "%store -r"
      ]
    },
    {
      "cell_type": "code",
      "execution_count": 4,
      "metadata": {},
      "outputs": [
        {
          "name": "stdout",
          "output_type": "stream",
          "text": [
            "Downloading dataset: vjchoudhary7/customer-segmentation-tutorial-in-python\n",
            "This may take a few minutes depending on dataset size...\n",
            "Downloading from https://www.kaggle.com/api/v1/datasets/download/vjchoudhary7/customer-segmentation-tutorial-in-python?dataset_version_number=1...\n",
            "Downloading from https://www.kaggle.com/api/v1/datasets/download/vjchoudhary7/customer-segmentation-tutorial-in-python?dataset_version_number=1...\n"
          ]
        },
        {
          "name": "stderr",
          "output_type": "stream",
          "text": [
            "100%|██████████| 1.55k/1.55k [00:00<00:00, 1.40MB/s]"
          ]
        },
        {
          "name": "stdout",
          "output_type": "stream",
          "text": [
            "Extracting files...\n",
            "✓ Dataset downloaded successfully to: /Users/ravisharma/.cache/kagglehub/datasets/vjchoudhary7/customer-segmentation-tutorial-in-python/versions/1\n",
            "Stored 'DOWNLOAD_PATH' (PosixPath)\n",
            "✓ Dataset downloaded successfully to: /Users/ravisharma/.cache/kagglehub/datasets/vjchoudhary7/customer-segmentation-tutorial-in-python/versions/1\n",
            "Stored 'DOWNLOAD_PATH' (PosixPath)\n"
          ]
        },
        {
          "name": "stderr",
          "output_type": "stream",
          "text": [
            "\n",
            "/Users/ravisharma/workdir/eda_practice/.venv/lib/python3.10/site-packages/IPython/extensions/storemagic.py:229: UserWarning: This is now an optional IPython functionality, setting autorestore/DOWNLOAD_PATH requires you to install the `pickleshare` library.\n",
            "  db[ 'autorestore/' + arg ] = obj\n"
          ]
        }
      ],
      "source": [
        "# Download dataset from Kaggle\n",
        "print(f\"Downloading dataset: {DATASET_KEY}\")\n",
        "print(\"This may take a few minutes depending on dataset size...\")\n",
        "\n",
        "try:\n",
        "    download_path = kagglehub.dataset_download(DATASET_KEY)\n",
        "    print(f\"✓ Dataset downloaded successfully to: {download_path}\")\n",
        "    DOWNLOAD_PATH = Path(download_path)\n",
        "    %store DOWNLOAD_PATH\n",
        "except Exception as e:\n",
        "    print(f\"❌ Error downloading dataset: {e}\")\n",
        "    print(\"Please check your Kaggle API credentials and dataset key.\")\n",
        "    raise"
      ]
    },
    {
      "cell_type": "code",
      "execution_count": 5,
      "metadata": {},
      "outputs": [
        {
          "name": "stdout",
          "output_type": "stream",
          "text": [
            "Copying data from /Users/ravisharma/.cache/kagglehub/datasets/vjchoudhary7/customer-segmentation-tutorial-in-python/versions/1 to /Users/ravisharma/workdir/eda_practice/data/customer-segmentation\n",
            "  ✓ Copied: Mall_Customers.csv\n",
            "\n",
            "✓ Successfully copied 1 files to /Users/ravisharma/workdir/eda_practice/data/customer-segmentation\n"
          ]
        }
      ],
      "source": [
        "# Copy data to project directory\n",
        "print(f\"Copying data from {DOWNLOAD_PATH} to {DATA_DIR}\")\n",
        "\n",
        "def copy_data_files(source_dir, target_dir):\n",
        "    \"\"\"Copy all files from source to target directory.\"\"\"\n",
        "    source_path = Path(source_dir)\n",
        "    target_path = Path(target_dir)\n",
        "    \n",
        "    # Ensure target directory exists\n",
        "    target_path.mkdir(parents=True, exist_ok=True)\n",
        "    \n",
        "    copied_files = []\n",
        "    \n",
        "    for file_path in source_path.rglob('*'):\n",
        "        if file_path.is_file():\n",
        "            # Maintain relative directory structure\n",
        "            relative_path = file_path.relative_to(source_path)\n",
        "            target_file_path = target_path / relative_path\n",
        "            \n",
        "            # Create parent directories if needed\n",
        "            target_file_path.parent.mkdir(parents=True, exist_ok=True)\n",
        "            \n",
        "            # Copy file\n",
        "            shutil.copy2(file_path, target_file_path)\n",
        "            copied_files.append(target_file_path)\n",
        "            print(f\"  ✓ Copied: {relative_path}\")\n",
        "    \n",
        "    return copied_files\n",
        "\n",
        "try:\n",
        "    copied_files = copy_data_files(DOWNLOAD_PATH, DATA_DIR)\n",
        "    print(f\"\\n✓ Successfully copied {len(copied_files)} files to {DATA_DIR}\")\n",
        "except Exception as e:\n",
        "    print(f\"❌ Error copying files: {e}\")\n",
        "    raise"
      ]
    },
    {
      "cell_type": "code",
      "execution_count": 6,
      "metadata": {},
      "outputs": [
        {
          "name": "stdout",
          "output_type": "stream",
          "text": [
            "Verifying data integrity...\n",
            "\n",
            "📊 Data Summary for customer-segmentation:\n",
            "==================================================\n",
            "Total files: 1\n",
            "Total size: 0.00 MB\n",
            "\n",
            "File types:\n",
            "  .csv: 1 files (0.00 MB)\n",
            "\n",
            "📋 CSV File Preview:\n",
            "\n",
            "Mall_Customers.csv:\n",
            "  Shape: (5, 5) (showing first 5 rows)\n",
            "  Columns: ['CustomerID', 'Gender', 'Age', 'Annual Income (k$)', 'Spending Score (1-100)']\n"
          ]
        },
        {
          "data": {
            "application/vnd.microsoft.datawrangler.viewer.v0+json": {
              "columns": [
                {
                  "name": "index",
                  "rawType": "int64",
                  "type": "integer"
                },
                {
                  "name": "CustomerID",
                  "rawType": "int64",
                  "type": "integer"
                },
                {
                  "name": "Gender",
                  "rawType": "object",
                  "type": "string"
                },
                {
                  "name": "Age",
                  "rawType": "int64",
                  "type": "integer"
                },
                {
                  "name": "Annual Income (k$)",
                  "rawType": "int64",
                  "type": "integer"
                },
                {
                  "name": "Spending Score (1-100)",
                  "rawType": "int64",
                  "type": "integer"
                }
              ],
              "ref": "57530df5-481a-4af1-825b-8ffa43726d26",
              "rows": [
                [
                  "0",
                  "1",
                  "Male",
                  "19",
                  "15",
                  "39"
                ],
                [
                  "1",
                  "2",
                  "Male",
                  "21",
                  "15",
                  "81"
                ],
                [
                  "2",
                  "3",
                  "Female",
                  "20",
                  "16",
                  "6"
                ],
                [
                  "3",
                  "4",
                  "Female",
                  "23",
                  "16",
                  "77"
                ],
                [
                  "4",
                  "5",
                  "Female",
                  "31",
                  "17",
                  "40"
                ]
              ],
              "shape": {
                "columns": 5,
                "rows": 5
              }
            },
            "text/html": [
              "<div>\n",
              "<style scoped>\n",
              "    .dataframe tbody tr th:only-of-type {\n",
              "        vertical-align: middle;\n",
              "    }\n",
              "\n",
              "    .dataframe tbody tr th {\n",
              "        vertical-align: top;\n",
              "    }\n",
              "\n",
              "    .dataframe thead th {\n",
              "        text-align: right;\n",
              "    }\n",
              "</style>\n",
              "<table border=\"1\" class=\"dataframe\">\n",
              "  <thead>\n",
              "    <tr style=\"text-align: right;\">\n",
              "      <th></th>\n",
              "      <th>CustomerID</th>\n",
              "      <th>Gender</th>\n",
              "      <th>Age</th>\n",
              "      <th>Annual Income (k$)</th>\n",
              "      <th>Spending Score (1-100)</th>\n",
              "    </tr>\n",
              "  </thead>\n",
              "  <tbody>\n",
              "    <tr>\n",
              "      <th>0</th>\n",
              "      <td>1</td>\n",
              "      <td>Male</td>\n",
              "      <td>19</td>\n",
              "      <td>15</td>\n",
              "      <td>39</td>\n",
              "    </tr>\n",
              "    <tr>\n",
              "      <th>1</th>\n",
              "      <td>2</td>\n",
              "      <td>Male</td>\n",
              "      <td>21</td>\n",
              "      <td>15</td>\n",
              "      <td>81</td>\n",
              "    </tr>\n",
              "    <tr>\n",
              "      <th>2</th>\n",
              "      <td>3</td>\n",
              "      <td>Female</td>\n",
              "      <td>20</td>\n",
              "      <td>16</td>\n",
              "      <td>6</td>\n",
              "    </tr>\n",
              "    <tr>\n",
              "      <th>3</th>\n",
              "      <td>4</td>\n",
              "      <td>Female</td>\n",
              "      <td>23</td>\n",
              "      <td>16</td>\n",
              "      <td>77</td>\n",
              "    </tr>\n",
              "    <tr>\n",
              "      <th>4</th>\n",
              "      <td>5</td>\n",
              "      <td>Female</td>\n",
              "      <td>31</td>\n",
              "      <td>17</td>\n",
              "      <td>40</td>\n",
              "    </tr>\n",
              "  </tbody>\n",
              "</table>\n",
              "</div>"
            ],
            "text/plain": [
              "   CustomerID  Gender  Age  Annual Income (k$)  Spending Score (1-100)\n",
              "0           1    Male   19                  15                      39\n",
              "1           2    Male   21                  15                      81\n",
              "2           3  Female   20                  16                       6\n",
              "3           4  Female   23                  16                      77\n",
              "4           5  Female   31                  17                      40"
            ]
          },
          "metadata": {},
          "output_type": "display_data"
        },
        {
          "name": "stdout",
          "output_type": "stream",
          "text": [
            "\n",
            "✅ Data verification completed successfully!\n",
            "\n",
            "🎉 Setup completed successfully for project: customer-segmentation\n",
            "\n",
            "Next steps:\n",
            "1. Create new notebooks in: /Users/ravisharma/workdir/eda_practice/notebooks/customer-segmentation\n",
            "2. Load shared variables with: %store -r\n",
            "3. Start your analysis!\n"
          ]
        }
      ],
      "source": [
        "# Verify data integrity and provide summary\n",
        "print(\"Verifying data integrity...\")\n",
        "\n",
        "def verify_data_integrity(data_dir):\n",
        "    \"\"\"Verify that data was copied correctly and provide summary.\"\"\"\n",
        "    data_path = Path(data_dir)\n",
        "    \n",
        "    if not data_path.exists():\n",
        "        print(f\"❌ Data directory does not exist: {data_path}\")\n",
        "        return False\n",
        "    \n",
        "    # Get all files\n",
        "    all_files = list(data_path.rglob('*'))\n",
        "    data_files = [f for f in all_files if f.is_file()]\n",
        "    \n",
        "    if not data_files:\n",
        "        print(f\"❌ No files found in data directory: {data_path}\")\n",
        "        return False\n",
        "    \n",
        "    print(f\"\\n📊 Data Summary for {SLUG}:\")\n",
        "    print(\"=\"*50)\n",
        "    print(f\"Total files: {len(data_files)}\")\n",
        "    \n",
        "    # Analyze file types\n",
        "    file_types = {}\n",
        "    total_size = 0\n",
        "    \n",
        "    for file_path in data_files:\n",
        "        file_ext = file_path.suffix.lower()\n",
        "        file_size = file_path.stat().st_size\n",
        "        \n",
        "        if file_ext not in file_types:\n",
        "            file_types[file_ext] = {'count': 0, 'size': 0}\n",
        "        \n",
        "        file_types[file_ext]['count'] += 1\n",
        "        file_types[file_ext]['size'] += file_size\n",
        "        total_size += file_size\n",
        "    \n",
        "    print(f\"Total size: {total_size / (1024**2):.2f} MB\")\n",
        "    print(\"\\nFile types:\")\n",
        "    for ext, info in file_types.items():\n",
        "        ext_name = ext if ext else 'no extension'\n",
        "        size_mb = info['size'] / (1024**2)\n",
        "        print(f\"  {ext_name}: {info['count']} files ({size_mb:.2f} MB)\")\n",
        "    \n",
        "    # Try to load CSV files for basic validation\n",
        "    csv_files = [f for f in data_files if f.suffix.lower() == '.csv']\n",
        "    if csv_files:\n",
        "        print(\"\\n📋 CSV File Preview:\")\n",
        "        for csv_file in csv_files[:3]:  # Preview first 3 CSV files\n",
        "            try:\n",
        "                df = pd.read_csv(csv_file, nrows=5)  # Read only first 5 rows\n",
        "                print(f\"\\n{csv_file.name}:\")\n",
        "                print(f\"  Shape: {df.shape} (showing first 5 rows)\")\n",
        "                print(f\"  Columns: {list(df.columns)}\")\n",
        "                display(df.head())\n",
        "            except Exception as e:\n",
        "                print(f\"  ⚠️ Could not preview {csv_file.name}: {e}\")\n",
        "    \n",
        "    print(\"\\n✅ Data verification completed successfully!\")\n",
        "    return True\n",
        "\n",
        "# Run verification\n",
        "verification_success = verify_data_integrity(DATA_DIR)\n",
        "\n",
        "if verification_success:\n",
        "    print(f\"\\n🎉 Setup completed successfully for project: {SLUG}\")\n",
        "    print(\"\\nNext steps:\")\n",
        "    print(f\"1. Create new notebooks in: {NOTEBOOK_DIR}\")\n",
        "    print(\"2. Load shared variables with: %store -r\")\n",
        "    print(\"3. Start your analysis!\")\n",
        "else:\n",
        "    print(\"\\n❌ Setup verification failed. Please check the errors above.\")"
      ]
    },
    {
      "cell_type": "code",
      "execution_count": null,
      "metadata": {},
      "outputs": [],
      "source": []
    }
  ],
  "metadata": {
    "kernelspec": {
      "display_name": "eda_practice",
      "language": "python",
      "name": "python3"
    },
    "language_info": {
      "codemirror_mode": {
        "name": "ipython",
        "version": 3
      },
      "file_extension": ".py",
      "mimetype": "text/x-python",
      "name": "python",
      "nbconvert_exporter": "python",
      "pygments_lexer": "ipython3",
      "version": "3.10.15"
    }
  },
  "nbformat": 4,
  "nbformat_minor": 4
}
