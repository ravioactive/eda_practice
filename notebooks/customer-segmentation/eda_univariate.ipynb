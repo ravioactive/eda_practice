{
 "cells": [
  {
   "cell_type": "markdown",
   "id": "acdfe037",
   "metadata": {},
   "source": [
    "# Univariate Analysis\n",
    "\n",
    "This notebook performs univariate analysis on the customer segmentation dataset. We'll first load the stored variables from our setup notebook."
   ]
  },
  {
   "cell_type": "code",
   "execution_count": null,
   "id": "34067af3",
   "metadata": {},
   "outputs": [
    {
     "name": "stdout",
     "output_type": "stream",
     "text": [
      "Project configuration:\n",
      "SLUG = customer-segmentation\n",
      "DATA_DIR = /Users/ravisharma/workdir/eda_practice/data/customer-segmentation\n",
      "DATASET_KEY = vjchoudhary7/customer-segmentation-tutorial-in-python\n",
      "FIG_DIR = /Users/ravisharma/workdir/eda_practice/figures/customer-segmentation\n",
      "REP_DIR = /Users/ravisharma/workdir/eda_practice/reports/customer-segmentation\n",
      "NOTEBOOK_DIR = /Users/ravisharma/workdir/eda_practice/notebooks/customer-segmentation\n",
      "Vars not found in locals: []\n"
     ]
    }
   ],
   "source": [
    "%store -r\n",
    "\n",
    "print(\"Project configuration:\")\n",
    "print(f\"SLUG = {SLUG}\")\n",
    "print(f\"DATA_DIR = {DATA_DIR}\")\n",
    "print(f\"DATASET_KEY = {DATASET_KEY}\")\n",
    "print(f\"FIG_DIR = {FIG_DIR}\")\n",
    "print(f\"REP_DIR = {REP_DIR}\")\n",
    "print(f\"NOTEBOOK_DIR = {NOTEBOOK_DIR}\")\n",
    "\n",
    "missing_vars = [var for var in ['SLUG', 'DATA_DIR', 'FIG_DIR', 'REP_DIR', 'NOTEBOOK_DIR', 'DATASET_KEY'] if var not in globals()]\n",
    "print(f\"Vars not found in globals: {missing_vars}\")\n",
    "\n",
    "# Set default values if variables are not found in store or are empty\n",
    "if not SLUG:  # Check if empty string\n",
    "    print(f\"{SLUG=} is empty, initializing everything explicitly\")\n",
    "    SLUG = 'customer-segmentation'\n",
    "    DATASET_KEY = 'vjchoudhary7/customer-segmentation-tutorial-in-python'\n",
    "    GIT_ROOT = Path.cwd().parent.parent\n",
    "    DATA_DIR = GIT_ROOT / 'data' / SLUG\n",
    "    FIG_DIR = GIT_ROOT / 'figures' / SLUG\n",
    "    REP_DIR = GIT_ROOT / 'reports' / SLUG\n",
    "    NOTEBOOK_DIR = GIT_ROOT / 'notebooks' / SLUG\n"
   ]
  },
  {
   "cell_type": "code",
   "execution_count": 12,
   "id": "6958e887",
   "metadata": {},
   "outputs": [],
   "source": [
    "from pathlib import Path\n",
    "import pandas as pd\n"
   ]
  },
  {
   "cell_type": "code",
   "execution_count": 17,
   "id": "1517d734",
   "metadata": {},
   "outputs": [
    {
     "name": "stdout",
     "output_type": "stream",
     "text": [
      "CSV /Users/ravisharma/workdir/eda_practice/data/customer-segmentation/Mall_Customers.csv loaded successfully.\n"
     ]
    },
    {
     "data": {
      "application/vnd.microsoft.datawrangler.viewer.v0+json": {
       "columns": [
        {
         "name": "index",
         "rawType": "int64",
         "type": "integer"
        },
        {
         "name": "CustomerID",
         "rawType": "int64",
         "type": "integer"
        },
        {
         "name": "Gender",
         "rawType": "object",
         "type": "string"
        },
        {
         "name": "Age",
         "rawType": "int64",
         "type": "integer"
        },
        {
         "name": "Annual Income (k$)",
         "rawType": "int64",
         "type": "integer"
        },
        {
         "name": "Spending Score (1-100)",
         "rawType": "int64",
         "type": "integer"
        }
       ],
       "ref": "997edebe-f143-4ccc-8457-e060a01fe0ba",
       "rows": [
        [
         "0",
         "1",
         "Male",
         "19",
         "15",
         "39"
        ],
        [
         "1",
         "2",
         "Male",
         "21",
         "15",
         "81"
        ],
        [
         "2",
         "3",
         "Female",
         "20",
         "16",
         "6"
        ],
        [
         "3",
         "4",
         "Female",
         "23",
         "16",
         "77"
        ],
        [
         "4",
         "5",
         "Female",
         "31",
         "17",
         "40"
        ]
       ],
       "shape": {
        "columns": 5,
        "rows": 5
       }
      },
      "text/html": [
       "<div>\n",
       "<style scoped>\n",
       "    .dataframe tbody tr th:only-of-type {\n",
       "        vertical-align: middle;\n",
       "    }\n",
       "\n",
       "    .dataframe tbody tr th {\n",
       "        vertical-align: top;\n",
       "    }\n",
       "\n",
       "    .dataframe thead th {\n",
       "        text-align: right;\n",
       "    }\n",
       "</style>\n",
       "<table border=\"1\" class=\"dataframe\">\n",
       "  <thead>\n",
       "    <tr style=\"text-align: right;\">\n",
       "      <th></th>\n",
       "      <th>CustomerID</th>\n",
       "      <th>Gender</th>\n",
       "      <th>Age</th>\n",
       "      <th>Annual Income (k$)</th>\n",
       "      <th>Spending Score (1-100)</th>\n",
       "    </tr>\n",
       "  </thead>\n",
       "  <tbody>\n",
       "    <tr>\n",
       "      <th>0</th>\n",
       "      <td>1</td>\n",
       "      <td>Male</td>\n",
       "      <td>19</td>\n",
       "      <td>15</td>\n",
       "      <td>39</td>\n",
       "    </tr>\n",
       "    <tr>\n",
       "      <th>1</th>\n",
       "      <td>2</td>\n",
       "      <td>Male</td>\n",
       "      <td>21</td>\n",
       "      <td>15</td>\n",
       "      <td>81</td>\n",
       "    </tr>\n",
       "    <tr>\n",
       "      <th>2</th>\n",
       "      <td>3</td>\n",
       "      <td>Female</td>\n",
       "      <td>20</td>\n",
       "      <td>16</td>\n",
       "      <td>6</td>\n",
       "    </tr>\n",
       "    <tr>\n",
       "      <th>3</th>\n",
       "      <td>4</td>\n",
       "      <td>Female</td>\n",
       "      <td>23</td>\n",
       "      <td>16</td>\n",
       "      <td>77</td>\n",
       "    </tr>\n",
       "    <tr>\n",
       "      <th>4</th>\n",
       "      <td>5</td>\n",
       "      <td>Female</td>\n",
       "      <td>31</td>\n",
       "      <td>17</td>\n",
       "      <td>40</td>\n",
       "    </tr>\n",
       "  </tbody>\n",
       "</table>\n",
       "</div>"
      ],
      "text/plain": [
       "   CustomerID  Gender  Age  Annual Income (k$)  Spending Score (1-100)\n",
       "0           1    Male   19                  15                      39\n",
       "1           2    Male   21                  15                      81\n",
       "2           3  Female   20                  16                       6\n",
       "3           4  Female   23                  16                      77\n",
       "4           5  Female   31                  17                      40"
      ]
     },
     "execution_count": 17,
     "metadata": {},
     "output_type": "execute_result"
    }
   ],
   "source": [
    "# Downloading data\n",
    "\n",
    "base_df = pd.DataFrame()\n",
    "\n",
    "CSV_PATH = Path(DATA_DIR) / \"Mall_Customers.csv\"\n",
    "if not CSV_PATH.exists:\n",
    "    print(f\"CSV {CSV_PATH} does not exist. base_df will remain empty.\")\n",
    "else:\n",
    "    base_df = pd.read_csv(CSV_PATH)\n",
    "    print(f\"CSV {CSV_PATH} loaded successfully.\")\n",
    "\n",
    "base_df.head()"
   ]
  },
  {
   "cell_type": "code",
   "execution_count": 16,
   "id": "a5837173",
   "metadata": {},
   "outputs": [
    {
     "data": {
      "application/vnd.microsoft.datawrangler.viewer.v0+json": {
       "columns": [
        {
         "name": "index",
         "rawType": "object",
         "type": "string"
        },
        {
         "name": "CustomerID",
         "rawType": "float64",
         "type": "float"
        },
        {
         "name": "Age",
         "rawType": "float64",
         "type": "float"
        },
        {
         "name": "Annual Income (k$)",
         "rawType": "float64",
         "type": "float"
        },
        {
         "name": "Spending Score (1-100)",
         "rawType": "float64",
         "type": "float"
        }
       ],
       "ref": "6df24066-cb42-4d1d-92b7-53fdb3daa111",
       "rows": [
        [
         "count",
         "200.0",
         "200.0",
         "200.0",
         "200.0"
        ],
        [
         "mean",
         "100.5",
         "38.85",
         "60.56",
         "50.2"
        ],
        [
         "std",
         "57.879184513951124",
         "13.96900733155888",
         "26.264721165271244",
         "25.823521668370173"
        ],
        [
         "min",
         "1.0",
         "18.0",
         "15.0",
         "1.0"
        ],
        [
         "25%",
         "50.75",
         "28.75",
         "41.5",
         "34.75"
        ],
        [
         "50%",
         "100.5",
         "36.0",
         "61.5",
         "50.0"
        ],
        [
         "75%",
         "150.25",
         "49.0",
         "78.0",
         "73.0"
        ],
        [
         "max",
         "200.0",
         "70.0",
         "137.0",
         "99.0"
        ]
       ],
       "shape": {
        "columns": 4,
        "rows": 8
       }
      },
      "text/html": [
       "<div>\n",
       "<style scoped>\n",
       "    .dataframe tbody tr th:only-of-type {\n",
       "        vertical-align: middle;\n",
       "    }\n",
       "\n",
       "    .dataframe tbody tr th {\n",
       "        vertical-align: top;\n",
       "    }\n",
       "\n",
       "    .dataframe thead th {\n",
       "        text-align: right;\n",
       "    }\n",
       "</style>\n",
       "<table border=\"1\" class=\"dataframe\">\n",
       "  <thead>\n",
       "    <tr style=\"text-align: right;\">\n",
       "      <th></th>\n",
       "      <th>CustomerID</th>\n",
       "      <th>Age</th>\n",
       "      <th>Annual Income (k$)</th>\n",
       "      <th>Spending Score (1-100)</th>\n",
       "    </tr>\n",
       "  </thead>\n",
       "  <tbody>\n",
       "    <tr>\n",
       "      <th>count</th>\n",
       "      <td>200.000000</td>\n",
       "      <td>200.000000</td>\n",
       "      <td>200.000000</td>\n",
       "      <td>200.000000</td>\n",
       "    </tr>\n",
       "    <tr>\n",
       "      <th>mean</th>\n",
       "      <td>100.500000</td>\n",
       "      <td>38.850000</td>\n",
       "      <td>60.560000</td>\n",
       "      <td>50.200000</td>\n",
       "    </tr>\n",
       "    <tr>\n",
       "      <th>std</th>\n",
       "      <td>57.879185</td>\n",
       "      <td>13.969007</td>\n",
       "      <td>26.264721</td>\n",
       "      <td>25.823522</td>\n",
       "    </tr>\n",
       "    <tr>\n",
       "      <th>min</th>\n",
       "      <td>1.000000</td>\n",
       "      <td>18.000000</td>\n",
       "      <td>15.000000</td>\n",
       "      <td>1.000000</td>\n",
       "    </tr>\n",
       "    <tr>\n",
       "      <th>25%</th>\n",
       "      <td>50.750000</td>\n",
       "      <td>28.750000</td>\n",
       "      <td>41.500000</td>\n",
       "      <td>34.750000</td>\n",
       "    </tr>\n",
       "    <tr>\n",
       "      <th>50%</th>\n",
       "      <td>100.500000</td>\n",
       "      <td>36.000000</td>\n",
       "      <td>61.500000</td>\n",
       "      <td>50.000000</td>\n",
       "    </tr>\n",
       "    <tr>\n",
       "      <th>75%</th>\n",
       "      <td>150.250000</td>\n",
       "      <td>49.000000</td>\n",
       "      <td>78.000000</td>\n",
       "      <td>73.000000</td>\n",
       "    </tr>\n",
       "    <tr>\n",
       "      <th>max</th>\n",
       "      <td>200.000000</td>\n",
       "      <td>70.000000</td>\n",
       "      <td>137.000000</td>\n",
       "      <td>99.000000</td>\n",
       "    </tr>\n",
       "  </tbody>\n",
       "</table>\n",
       "</div>"
      ],
      "text/plain": [
       "       CustomerID         Age  Annual Income (k$)  Spending Score (1-100)\n",
       "count  200.000000  200.000000          200.000000              200.000000\n",
       "mean   100.500000   38.850000           60.560000               50.200000\n",
       "std     57.879185   13.969007           26.264721               25.823522\n",
       "min      1.000000   18.000000           15.000000                1.000000\n",
       "25%     50.750000   28.750000           41.500000               34.750000\n",
       "50%    100.500000   36.000000           61.500000               50.000000\n",
       "75%    150.250000   49.000000           78.000000               73.000000\n",
       "max    200.000000   70.000000          137.000000               99.000000"
      ]
     },
     "execution_count": 16,
     "metadata": {},
     "output_type": "execute_result"
    }
   ],
   "source": [
    "base_df.describe()"
   ]
  },
  {
   "cell_type": "code",
   "execution_count": null,
   "id": "eab3674f",
   "metadata": {},
   "outputs": [
    {
     "name": "stdout",
     "output_type": "stream",
     "text": [
      "<class 'pandas.core.frame.DataFrame'>\n",
      "RangeIndex: 200 entries, 0 to 199\n",
      "Data columns (total 5 columns):\n",
      " #   Column                  Non-Null Count  Dtype \n",
      "---  ------                  --------------  ----- \n",
      " 0   CustomerID              200 non-null    int64 \n",
      " 1   Gender                  200 non-null    object\n",
      " 2   Age                     200 non-null    int64 \n",
      " 3   Annual Income (k$)      200 non-null    int64 \n",
      " 4   Spending Score (1-100)  200 non-null    int64 \n",
      "dtypes: int64(4), object(1)\n",
      "memory usage: 7.9+ KB\n"
     ]
    },
    {
     "data": {
      "text/plain": [
       "((200, 5), None)"
      ]
     },
     "execution_count": 19,
     "metadata": {},
     "output_type": "execute_result"
    }
   ],
   "source": [
    "base_df.info()"
   ]
  },
  {
   "cell_type": "markdown",
   "id": "09cd25f2",
   "metadata": {},
   "source": [
    "## Analysis Planned\n",
    "0. Check feature types\n",
    "   - Identify numerical vs categorical features\n",
    "   - Create lists for each type\n",
    "\n",
    "Numerical analyses\n",
    "1. Descriptive statistics\n",
    "   - Basics (mean, median, std)\n",
    "   - Skewness\n",
    "   - Kurtosis\n",
    "   - Quantiles\n",
    "\n",
    "2. Distribution shape tests\n",
    "   - Shapiro–Wilk\n",
    "   - D'Agostino–Pearson\n",
    "   - Jarque–Bera\n",
    "   - Anderson–Darling\n",
    "\n",
    "3. Outlier detection\n",
    "   - IQR method\n",
    "   - Z-score\n",
    "   - Modified Z-score (robust)\n",
    "   - Isolation Forest\n",
    "   - Local Outlier Factor\n",
    "\n",
    "4. Visualizations (save to figures/`$slug`/univariate)\n",
    "   - Histogram\n",
    "   - KDE / histplot + KDE\n",
    "   - Violin plot (box + density)\n",
    "   - Q–Q plot\n",
    "   - Density plot\n",
    "\n",
    "Notes\n",
    "- Keep plots and outputs reproducible (seed where applicable)\n",
    "- Store generated figures under: `figures/<SLUG>/univariate`"
   ]
  },
  {
   "cell_type": "code",
   "execution_count": 28,
   "id": "805dc315",
   "metadata": {},
   "outputs": [],
   "source": [
    "analysis_results = {}"
   ]
  },
  {
   "cell_type": "code",
   "execution_count": 30,
   "id": "971d8e2a",
   "metadata": {},
   "outputs": [
    {
     "name": "stdout",
     "output_type": "stream",
     "text": [
      "numerical_features=['CustomerID', 'Age', 'Annual Income (k$)', 'Spending Score (1-100)']\n",
      "categorical_features=['Gender']\n",
      "datetime_features=[]\n",
      "id_column='CustomerID'\n",
      "Dropping id columns...\n",
      "numerical_features=['Age', 'Annual Income (k$)', 'Spending Score (1-100)']\n"
     ]
    }
   ],
   "source": [
    "base_df.dtypes\n",
    "numerical_features = base_df.select_dtypes(include=['int64', 'float64']).columns.tolist()\n",
    "categorical_features = base_df.select_dtypes(include=['object']).columns.tolist()\n",
    "datetime_features = base_df.select_dtypes(include=['datetime64']).columns.tolist()\n",
    "id_column = 'CustomerID'\n",
    "print(f\"{numerical_features=}\")\n",
    "print(f\"{categorical_features=}\")\n",
    "print(f\"{datetime_features=}\")\n",
    "print(f\"{id_column=}\")\n",
    "print(\"Dropping id columns...\")\n",
    "numerical_features.remove(id_column)\n",
    "print(f\"{numerical_features=}\")"
   ]
  },
  {
   "cell_type": "code",
   "execution_count": null,
   "id": "f345322b",
   "metadata": {},
   "outputs": [
    {
     "name": "stdout",
     "output_type": "stream",
     "text": [
      "missing_data=CustomerID                0\n",
      "Gender                    0\n",
      "Age                       0\n",
      "Annual Income (k$)        0\n",
      "Spending Score (1-100)    0\n",
      "dtype: int64\n",
      "missing_data_pct=CustomerID                0.0\n",
      "Gender                    0.0\n",
      "Age                       0.0\n",
      "Annual Income (k$)        0.0\n",
      "Spending Score (1-100)    0.0\n",
      "dtype: float64\n"
     ]
    }
   ],
   "source": [
    "missing_data = base_df.isnull().sum() # a dataframe\n",
    "missing_data_pct = missing_data / len(base_df) * 100 # a dataframe with operation done column wise\n",
    "print(f\"{missing_data=}\")\n",
    "print(f\"{missing_data_pct=}\")"
   ]
  },
  {
   "cell_type": "code",
   "execution_count": 31,
   "id": "cb1a08c0",
   "metadata": {},
   "outputs": [],
   "source": [
    "analysis_results['dataset'] = {\n",
    "    \"missing_data\": missing_data.to_dict(),\n",
    "    \"missing_data_pct\": missing_data_pct.to_dict(),\n",
    "    \"numerical_features\": numerical_features,\n",
    "    \"categorical_features\": categorical_features,\n",
    "    \"datetime_features\": datetime_features,\n",
    "    \"shape\": base_df.shape\n",
    "}"
   ]
  },
  {
   "cell_type": "code",
   "execution_count": 40,
   "id": "8a13c8bb",
   "metadata": {},
   "outputs": [
    {
     "data": {
      "application/vnd.microsoft.datawrangler.viewer.v0+json": {
       "columns": [
        {
         "name": "index",
         "rawType": "object",
         "type": "string"
        },
        {
         "name": "Age",
         "rawType": "float64",
         "type": "float"
        }
       ],
       "ref": "9766890c-ac3f-4046-b95b-686df27d6e18",
       "rows": [
        [
         "count",
         "200.0"
        ],
        [
         "mean",
         "38.85"
        ],
        [
         "median",
         "36.0"
        ],
        [
         "std",
         "13.96900733155888"
        ],
        [
         "var",
         "195.13316582914572"
        ],
        [
         "min",
         "18.0"
        ],
        [
         "max",
         "70.0"
        ],
        [
         "skew",
         "0.48556885096681657"
        ],
        [
         "kurtosis",
         "-0.6715728615981695"
        ]
       ],
       "shape": {
        "columns": 1,
        "rows": 9
       }
      },
      "text/plain": [
       "count       200.000000\n",
       "mean         38.850000\n",
       "median       36.000000\n",
       "std          13.969007\n",
       "var         195.133166\n",
       "min          18.000000\n",
       "max          70.000000\n",
       "skew          0.485569\n",
       "kurtosis     -0.671573\n",
       "Name: Age, dtype: float64"
      ]
     },
     "execution_count": 40,
     "metadata": {},
     "output_type": "execute_result"
    }
   ],
   "source": [
    "base_df['Age'].agg(['count', 'mean', 'median', 'std', 'var', 'min', 'max', 'skew', 'kurtosis'])"
   ]
  },
  {
   "cell_type": "code",
   "execution_count": 41,
   "id": "a67d6bac",
   "metadata": {},
   "outputs": [
    {
     "name": "stdout",
     "output_type": "stream",
     "text": [
      "0.48191947090957177 -0.6847513947723236\n"
     ]
    }
   ],
   "source": [
    "from scipy import stats\n",
    "print(stats.skew(base_df['Age']), stats.kurtosis(base_df['Age']))\n",
    "# base_df['Age'].quantile([0.25, 0.5, 0.75, 0.95, 0.99])"
   ]
  },
  {
   "cell_type": "code",
   "execution_count": 43,
   "id": "97c66ef1",
   "metadata": {},
   "outputs": [
    {
     "data": {
      "application/vnd.microsoft.datawrangler.viewer.v0+json": {
       "columns": [
        {
         "name": "index",
         "rawType": "int64",
         "type": "integer"
        },
        {
         "name": "Age",
         "rawType": "int64",
         "type": "integer"
        }
       ],
       "ref": "cbbc08fd-c866-4673-b3e0-bac41ad8971c",
       "rows": [
        [
         "0",
         "32"
        ]
       ],
       "shape": {
        "columns": 1,
        "rows": 1
       }
      },
      "text/plain": [
       "0    32\n",
       "Name: Age, dtype: int64"
      ]
     },
     "execution_count": 43,
     "metadata": {},
     "output_type": "execute_result"
    }
   ],
   "source": [
    "base_df['Age'].mode()"
   ]
  },
  {
   "cell_type": "code",
   "execution_count": 45,
   "id": "af023a5d",
   "metadata": {},
   "outputs": [
    {
     "name": "stdout",
     "output_type": "stream",
     "text": [
      "Analysing numerical features: %s ['Age', 'Annual Income (k$)', 'Spending Score (1-100)']\n",
      "========================================\n",
      "----------------------------------------\n",
      "Analyzing Age\n",
      "----------------------------------------\n",
      "Basic Statistics:\n",
      "count    200.000000\n",
      "mean      38.850000\n",
      "std       13.969007\n",
      "min       18.000000\n",
      "25%       28.750000\n",
      "50%       36.000000\n",
      "75%       49.000000\n",
      "max       70.000000\n",
      "Name: Age, dtype: float64\n",
      "{'count': 200, 'mean': np.float64(38.85), 'median': np.float64(36.0), 'mode': np.int64(32), 'std': np.float64(13.96900733155888), 'var': np.float64(195.13316582914572), 'min': np.int64(18), 'max': np.int64(70), 'skew': np.float64(0.48191947090957177), 'kurtosis': np.float64(-0.6847513947723236), 'quantiles': {0.25: 28.75, 0.5: 36.0, 0.75: 49.0, 0.95: 66.04999999999998, 0.99: 69.00999999999999}}\n",
      "Skewness and Kurtosis:\n",
      "0.48191947090957177 -0.6847513947723236\n",
      "Quantiles:\n",
      "0.25    28.75\n",
      "0.50    36.00\n",
      "0.75    49.00\n",
      "0.95    66.05\n",
      "0.99    69.01\n",
      "Name: Age, dtype: float64\n",
      "----------------------------------------\n",
      "Analyzing Annual Income (k$)\n",
      "----------------------------------------\n",
      "Basic Statistics:\n",
      "count    200.000000\n",
      "mean      60.560000\n",
      "std       26.264721\n",
      "min       15.000000\n",
      "25%       41.500000\n",
      "50%       61.500000\n",
      "75%       78.000000\n",
      "max      137.000000\n",
      "Name: Annual Income (k$), dtype: float64\n",
      "{'count': 200, 'mean': np.float64(60.56), 'median': np.float64(61.5), 'mode': np.int64(54), 'std': np.float64(26.264721165271244), 'var': np.float64(689.8355778894472), 'min': np.int64(15), 'max': np.int64(137), 'skew': np.float64(0.319423684276314), 'kurtosis': np.float64(-0.1258928297475106), 'quantiles': {0.25: 41.5, 0.5: 61.5, 0.75: 78.0, 0.95: 103.0, 0.99: 126.1099999999999}}\n",
      "Skewness and Kurtosis:\n",
      "0.319423684276314 -0.1258928297475106\n",
      "Quantiles:\n",
      "0.25     41.50\n",
      "0.50     61.50\n",
      "0.75     78.00\n",
      "0.95    103.00\n",
      "0.99    126.11\n",
      "Name: Annual Income (k$), dtype: float64\n",
      "----------------------------------------\n",
      "Analyzing Spending Score (1-100)\n",
      "----------------------------------------\n",
      "Basic Statistics:\n",
      "count    200.000000\n",
      "mean      50.200000\n",
      "std       25.823522\n",
      "min        1.000000\n",
      "25%       34.750000\n",
      "50%       50.000000\n",
      "75%       73.000000\n",
      "max       99.000000\n",
      "Name: Spending Score (1-100), dtype: float64\n",
      "{'count': 200, 'mean': np.float64(50.2), 'median': np.float64(50.0), 'mode': np.int64(42), 'std': np.float64(25.823521668370173), 'var': np.float64(666.8542713567839), 'min': np.int64(1), 'max': np.int64(99), 'skew': np.float64(-0.04686530945553505), 'kurtosis': np.float64(-0.8359582718737237), 'quantiles': {0.25: 34.75, 0.5: 50.0, 0.75: 73.0, 0.95: 92.0, 0.99: 97.00999999999999}}\n",
      "Skewness and Kurtosis:\n",
      "-0.04686530945553505 -0.8359582718737237\n",
      "Quantiles:\n",
      "0.25    34.75\n",
      "0.50    50.00\n",
      "0.75    73.00\n",
      "0.95    92.00\n",
      "0.99    97.01\n",
      "Name: Spending Score (1-100), dtype: float64\n"
     ]
    }
   ],
   "source": [
    "from scipy import stats\n",
    "\n",
    "univariate_analysis = {}\n",
    "\n",
    "numerical_features = analysis_results['dataset']['numerical_features']\n",
    "\n",
    "print(\"Analysing numerical features: %s\", numerical_features)\n",
    "print(\"=\"*40)\n",
    "\n",
    "numerical_df = base_df[numerical_features]\n",
    "\n",
    "for numerical_feature in numerical_features:\n",
    "    col = numerical_feature\n",
    "    print(\"-\"*40)\n",
    "    print(f\"Analyzing {numerical_feature}\")\n",
    "    print(\"-\"*40)\n",
    "    \n",
    "    # checks before processing column\n",
    "    col_data = numerical_df[col].dropna()\n",
    "\n",
    "    if len(col_data) == 0:\n",
    "        print(f\"Column {col} has no data after dropping NA, skipping...\")\n",
    "        continue\n",
    "    \n",
    "    qtls = col_data.quantile([0.25, 0.5, 0.75, 0.95, 0.99])\n",
    "    \n",
    "    stats_dict = {\n",
    "        'count' : len(col_data),\n",
    "        'mean' : col_data.mean(),\n",
    "        'median' : col_data.median(),\n",
    "        'mode' : col_data.mode().values[0] if not col_data.mode().empty else None,\n",
    "        'std' : col_data.std(),\n",
    "        'var' : col_data.var(),\n",
    "        'min' : col_data.min(),\n",
    "        'max' : col_data.max(),\n",
    "        'skew' : stats.skew(col_data),\n",
    "        'kurtosis' : stats.kurtosis(col_data),\n",
    "        'quantiles' : qtls.to_dict()\n",
    "    }\n",
    "\n",
    "    univariate_analysis[col] = stats_dict\n",
    "\n",
    "    print(\"Basic Statistics:\")\n",
    "    print(col_data.describe())\n",
    "    print(stats_dict)\n",
    "\n",
    "    print(\"Skewness and Kurtosis:\")\n",
    "    print(stats.skew(col_data), stats.kurtosis(col_data))\n",
    "\n",
    "    print(\"Quantiles:\")\n",
    "    print(qtls)\n"
   ]
  }
 ],
 "metadata": {
  "kernelspec": {
   "display_name": "eda_practice",
   "language": "python",
   "name": "python3"
  },
  "language_info": {
   "codemirror_mode": {
    "name": "ipython",
    "version": 3
   },
   "file_extension": ".py",
   "mimetype": "text/x-python",
   "name": "python",
   "nbconvert_exporter": "python",
   "pygments_lexer": "ipython3",
   "version": "3.10.15"
  }
 },
 "nbformat": 4,
 "nbformat_minor": 5
}
